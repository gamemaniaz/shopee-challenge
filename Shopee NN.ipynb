{
 "cells": [
  {
   "cell_type": "markdown",
   "metadata": {},
   "source": [
    "# Packages"
   ]
  },
  {
   "cell_type": "code",
   "execution_count": 1,
   "metadata": {},
   "outputs": [
    {
     "name": "stderr",
     "output_type": "stream",
     "text": [
      "/opt/anaconda/anaconda3/lib/python3.6/site-packages/h5py/__init__.py:36: FutureWarning: Conversion of the second argument of issubdtype from `float` to `np.floating` is deprecated. In future, it will be treated as `np.float64 == np.dtype(float).type`.\n",
      "  from ._conv import register_converters as _register_converters\n",
      "Using TensorFlow backend.\n"
     ]
    }
   ],
   "source": [
    "import pandas as pd\n",
    "import numpy as np\n",
    "import matplotlib.pyplot as plt\n",
    "import json, re, math\n",
    "import tensorflow as tf\n",
    "from sklearn.model_selection import train_test_split\n",
    "from tensorflow import keras\n",
    "from keras.models import Sequential\n",
    "from keras.layers import Dense, Activation, Dropout, CuDNNLSTM, Bidirectional, Reshape, Flatten\n",
    "from keras.preprocessing import text\n",
    "from keras.layers.normalization import BatchNormalization\n",
    "from keras.callbacks import ModelCheckpoint, CSVLogger\n",
    "from keras import utils\n",
    "from gensim.models import Word2Vec\n",
    "%matplotlib inline"
   ]
  },
  {
   "cell_type": "markdown",
   "metadata": {},
   "source": [
    "# Data"
   ]
  },
  {
   "cell_type": "code",
   "execution_count": 2,
   "metadata": {},
   "outputs": [],
   "source": [
    "train = pd.read_csv('train.csv').iloc[:, :-1]\n",
    "test = pd.read_csv('test.csv').iloc[:, :-1]\n",
    "submission = pd.read_csv('data_info_val_sample_submission.csv')\n",
    "with open('categories.json') as f:\n",
    "    categories = json.load(f)"
   ]
  },
  {
   "cell_type": "markdown",
   "metadata": {},
   "source": [
    "# Preprocess"
   ]
  },
  {
   "cell_type": "code",
   "execution_count": 3,
   "metadata": {},
   "outputs": [],
   "source": [
    "def preprocessing(titles_array):\n",
    "    processed_array = []\n",
    "    for title in titles_array:\n",
    "        processed = re.sub('[^a-zA-Z ]', '', title)\n",
    "        words = processed.split()\n",
    "        processed_array.append(' '.join([word for word in words if len(word) > 1]))\n",
    "    return processed_array"
   ]
  },
  {
   "cell_type": "code",
   "execution_count": 4,
   "metadata": {},
   "outputs": [],
   "source": [
    "train['processed'] = preprocessing(train['title'])\n",
    "test['processed'] = preprocessing(test['title'])"
   ]
  },
  {
   "cell_type": "code",
   "execution_count": 5,
   "metadata": {},
   "outputs": [],
   "source": [
    "x, y = train['processed'].values, train['Category'].values\n",
    "x_train, x_test, y_train, y_test = train_test_split(x, y, test_size=0.1, random_state=2019, shuffle=True, stratify=y)"
   ]
  },
  {
   "cell_type": "code",
   "execution_count": null,
   "metadata": {},
   "outputs": [],
   "source": [
    "sentences = pd.concat([train['processed'], test['processed']],axis=0)\n",
    "train_sentences = list(sentences.apply(str.split).values)\n",
    "\n",
    "w2v = Word2Vec(sentences=train_sentences, \n",
    "                 sg=1, \n",
    "                 size=100,  \n",
    "                 workers=4)\n",
    "\n",
    "w2v.wv.save_word2vec_format('custom_glove_100d.txt')"
   ]
  },
  {
   "cell_type": "code",
   "execution_count": 6,
   "metadata": {},
   "outputs": [
    {
     "name": "stdout",
     "output_type": "stream",
     "text": [
      "Found 16690 word vectors.\n"
     ]
    }
   ],
   "source": [
    "embeddings_index = {}\n",
    "f = open('custom_glove_100d.txt')\n",
    "for line in f:\n",
    "    values = line.split(\" \")\n",
    "    word = values[0]\n",
    "    coefs = np.asarray(values[1:], dtype='float32')\n",
    "    embeddings_index[word] = coefs\n",
    "f.close()\n",
    "\n",
    "print('Found %s word vectors.' % len(embeddings_index))"
   ]
  },
  {
   "cell_type": "code",
   "execution_count": 9,
   "metadata": {},
   "outputs": [],
   "source": [
    "def text_to_array(text):\n",
    "    empyt_emb = np.zeros(100)\n",
    "    text = str(text)\n",
    "    text = text.split()[:100]\n",
    "    embeds = [embeddings_index.get(x, empyt_emb) for x in text]\n",
    "    embeds += [empyt_emb] * (100 - len(embeds))\n",
    "    return np.array(embeds)"
   ]
  },
  {
   "cell_type": "code",
   "execution_count": 10,
   "metadata": {},
   "outputs": [],
   "source": [
    "x_train_vec = np.array([text_to_array(_) for _ in x_train])\n",
    "x_test_vec = np.array([text_to_array(_) for _ in x_test])"
   ]
  },
  {
   "cell_type": "markdown",
   "metadata": {},
   "source": [
    "# Model"
   ]
  },
  {
   "cell_type": "code",
   "execution_count": 11,
   "metadata": {},
   "outputs": [],
   "source": [
    "y_train = utils.to_categorical(y_train, 58)\n",
    "y_test = utils.to_categorical(y_test, 58)"
   ]
  },
  {
   "cell_type": "code",
   "execution_count": 22,
   "metadata": {},
   "outputs": [],
   "source": [
    "batch_size = 32\n",
    "epochs = 20\n",
    "\n",
    "model = Sequential()\n",
    "model.add(Bidirectional(CuDNNLSTM(128, return_sequences=True), input_shape=(100, 100)))\n",
    "model.add(Dropout(0.05))\n",
    "model.add(Bidirectional(CuDNNLSTM(128)))\n",
    "model.add(Dense(58, activation=tf.nn.softmax))\n",
    "\n",
    "callbacks = [\n",
    "    ModelCheckpoint('rnn.h5', monitor='test_acc', verbose=1), \n",
    "    CSVLogger('nn1.csv', separator=',', append=False)\n",
    "]\n",
    "\n",
    "model.compile(\n",
    "    loss='categorical_crossentropy',\n",
    "    optimizer='adam',\n",
    "    metrics=['accuracy']\n",
    ")"
   ]
  },
  {
   "cell_type": "code",
   "execution_count": 23,
   "metadata": {
    "scrolled": true
   },
   "outputs": [
    {
     "name": "stdout",
     "output_type": "stream",
     "text": [
      "_________________________________________________________________\n",
      "Layer (type)                 Output Shape              Param #   \n",
      "=================================================================\n",
      "bidirectional_7 (Bidirection (None, 100, 256)          235520    \n",
      "_________________________________________________________________\n",
      "dropout_8 (Dropout)          (None, 100, 256)          0         \n",
      "_________________________________________________________________\n",
      "bidirectional_8 (Bidirection (None, 256)               395264    \n",
      "_________________________________________________________________\n",
      "dense_12 (Dense)             (None, 58)                14906     \n",
      "=================================================================\n",
      "Total params: 645,690\n",
      "Trainable params: 645,690\n",
      "Non-trainable params: 0\n",
      "_________________________________________________________________\n"
     ]
    }
   ],
   "source": [
    "model.summary()"
   ]
  },
  {
   "cell_type": "code",
   "execution_count": 24,
   "metadata": {},
   "outputs": [
    {
     "name": "stdout",
     "output_type": "stream",
     "text": [
      "Epoch 1/20\n",
      "599953/599953 [==============================] - 697s 1ms/step - loss: 1.0180 - acc: 0.6837\n",
      "\n",
      "Epoch 00001: saving model to rnn.hdf5\n",
      "Epoch 2/20\n",
      "599953/599953 [==============================] - 696s 1ms/step - loss: 0.8954 - acc: 0.7147\n",
      "\n",
      "Epoch 00002: saving model to rnn.hdf5\n",
      "Epoch 3/20\n",
      "599953/599953 [==============================] - 696s 1ms/step - loss: 0.8430 - acc: 0.7288\n",
      "\n",
      "Epoch 00003: saving model to rnn.hdf5\n",
      "Epoch 4/20\n",
      "599953/599953 [==============================] - 694s 1ms/step - loss: 0.8050 - acc: 0.7394\n",
      "\n",
      "Epoch 00004: saving model to rnn.hdf5\n",
      "Epoch 5/20\n",
      "599953/599953 [==============================] - 694s 1ms/step - loss: 0.7727 - acc: 0.7485\n",
      "\n",
      "Epoch 00005: saving model to rnn.hdf5\n",
      "Epoch 6/20\n",
      "599953/599953 [==============================] - 693s 1ms/step - loss: 0.7463 - acc: 0.7561\n",
      "\n",
      "Epoch 00006: saving model to rnn.hdf5\n",
      "Epoch 7/20\n",
      "599953/599953 [==============================] - 720s 1ms/step - loss: 0.7231 - acc: 0.7631\n",
      "\n",
      "Epoch 00007: saving model to rnn.hdf5\n",
      "Epoch 8/20\n",
      "599953/599953 [==============================] - 726s 1ms/step - loss: 0.7025 - acc: 0.7689\n",
      "\n",
      "Epoch 00008: saving model to rnn.hdf5\n",
      "Epoch 9/20\n",
      "599953/599953 [==============================] - 722s 1ms/step - loss: 0.6855 - acc: 0.7738\n",
      "\n",
      "Epoch 00009: saving model to rnn.hdf5\n",
      "Epoch 10/20\n",
      "599953/599953 [==============================] - 728s 1ms/step - loss: 0.6710 - acc: 0.7778\n",
      "\n",
      "Epoch 00010: saving model to rnn.hdf5\n",
      "Epoch 11/20\n",
      "599953/599953 [==============================] - 726s 1ms/step - loss: 0.6587 - acc: 0.7814\n",
      "\n",
      "Epoch 00011: saving model to rnn.hdf5\n",
      "Epoch 12/20\n",
      "599953/599953 [==============================] - 725s 1ms/step - loss: 0.6475 - acc: 0.7849\n",
      "\n",
      "Epoch 00012: saving model to rnn.hdf5\n",
      "Epoch 13/20\n",
      "599953/599953 [==============================] - 725s 1ms/step - loss: 0.6378 - acc: 0.7873\n",
      "\n",
      "Epoch 00013: saving model to rnn.hdf5\n",
      "Epoch 14/20\n",
      "599953/599953 [==============================] - 724s 1ms/step - loss: 0.6306 - acc: 0.7891\n",
      "\n",
      "Epoch 00014: saving model to rnn.hdf5\n",
      "Epoch 15/20\n",
      "599953/599953 [==============================] - 722s 1ms/step - loss: 0.6236 - acc: 0.7913\n",
      "\n",
      "Epoch 00015: saving model to rnn.hdf5\n",
      "Epoch 16/20\n",
      "599953/599953 [==============================] - 726s 1ms/step - loss: 0.6170 - acc: 0.7932\n",
      "\n",
      "Epoch 00016: saving model to rnn.hdf5\n",
      "Epoch 17/20\n",
      "599953/599953 [==============================] - 724s 1ms/step - loss: 0.6123 - acc: 0.7944\n",
      "\n",
      "Epoch 00017: saving model to rnn.hdf5\n",
      "Epoch 18/20\n",
      "599953/599953 [==============================] - 726s 1ms/step - loss: 0.6077 - acc: 0.7958\n",
      "\n",
      "Epoch 00018: saving model to rnn.hdf5\n",
      "Epoch 19/20\n",
      "599953/599953 [==============================] - 725s 1ms/step - loss: 0.6034 - acc: 0.7971\n",
      "\n",
      "Epoch 00019: saving model to rnn.hdf5\n",
      "Epoch 20/20\n",
      "599953/599953 [==============================] - 725s 1ms/step - loss: 0.6006 - acc: 0.7976\n",
      "\n",
      "Epoch 00020: saving model to rnn.hdf5\n"
     ]
    }
   ],
   "source": [
    "history = model.fit(x_train_vec, y_train,\n",
    "                    batch_size=batch_size,\n",
    "                    epochs=epochs,\n",
    "                    callbacks=callbacks,\n",
    "                    verbose=1)"
   ]
  },
  {
   "cell_type": "code",
   "execution_count": 25,
   "metadata": {},
   "outputs": [],
   "source": [
    "model.save('final.h5')\n",
    "model.save_weights('final_checkpoint.ckpt')"
   ]
  },
  {
   "cell_type": "code",
   "execution_count": 28,
   "metadata": {},
   "outputs": [
    {
     "name": "stdout",
     "output_type": "stream",
     "text": [
      "66662/66662 [==============================] - 37s 549us/step\n"
     ]
    },
    {
     "data": {
      "text/plain": [
       "[0.9041389143329969, 0.7285109957714921]"
      ]
     },
     "execution_count": 28,
     "metadata": {},
     "output_type": "execute_result"
    }
   ],
   "source": [
    "model.evaluate(x_test_vec, y_test)"
   ]
  },
  {
   "cell_type": "code",
   "execution_count": 29,
   "metadata": {},
   "outputs": [
    {
     "data": {
      "image/png": "[encoded data removed]",
      "text/plain": [
       "<Figure size 432x288 with 1 Axes>"
      ]
     },
     "metadata": {},
     "output_type": "display_data"
    },
    {
     "data": {
      "image/png": "[encoded data removed]",
      "text/plain": [
       "<Figure size 432x288 with 1 Axes>"
      ]
     },
     "metadata": {},
     "output_type": "display_data"
    }
   ],
   "source": [
    "accuracy, loss = history.history['acc'], history.history['loss']\n",
    "epochs = range(len(accuracy))\n",
    "\n",
    "plt.plot(epochs, accuracy)\n",
    "plt.xlabel('epochs')\n",
    "plt.ylabel('accuracy')\n",
    "plt.show()\n",
    "\n",
    "plt.plot(epochs, loss)\n",
    "plt.xlabel('epochs')\n",
    "plt.ylabel('loss')\n",
    "plt.show()"
   ]
  },
  {
   "cell_type": "code",
   "execution_count": 30,
   "metadata": {},
   "outputs": [],
   "source": [
    "x_submission = test['processed'].values\n",
    "x_submission_vec = np.array([text_to_array(_) for _ in x_submission])\n",
    "y_submission = model.predict(x_submission_vec)\n",
    "test['Category'] = np.argmax(y_submission, axis=1)"
   ]
  },
  {
   "cell_type": "code",
   "execution_count": 32,
   "metadata": {},
   "outputs": [],
   "source": [
    "test[['itemid', 'Category']].to_csv('submission_final.csv', index=False)"
   ]
  }
 ],
 "metadata": {
  "kernelspec": {
   "display_name": "Python 3",
   "language": "python",
   "name": "python3"
  },
  "language_info": {
   "codemirror_mode": {
    "name": "ipython",
    "version": 3
   },
   "file_extension": ".py",
   "mimetype": "text/x-python",
   "name": "python",
   "nbconvert_exporter": "python",
   "pygments_lexer": "ipython3",
   "version": "3.6.5"
  }
 },
 "nbformat": 4,
 "nbformat_minor": 2
}
