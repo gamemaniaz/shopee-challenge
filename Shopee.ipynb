{
 "cells": [
  {
   "cell_type": "markdown",
   "metadata": {},
   "source": [
    "# Packages"
   ]
  },
  {
   "cell_type": "code",
   "execution_count": 3,
   "metadata": {},
   "outputs": [],
   "source": [
    "import pandas as pd\n",
    "import numpy as np\n",
    "import matplotlib.pyplot as plt\n",
    "import json, re\n",
    "from pprint import pprint\n",
    "from nltk.corpus import stopwords\n",
    "from sklearn.model_selection import StratifiedKFold, train_test_split\n",
    "from sklearn.naive_bayes import MultinomialNB\n",
    "from sklearn.linear_model import SGDClassifier, LogisticRegression\n",
    "from xgboost import XGBClassifier\n",
    "from sklearn.feature_extraction.text import TfidfTransformer, TfidfVectorizer, CountVectorizer\n",
    "from sklearn.metrics import f1_score\n",
    "from sklearn.model_selection import GridSearchCV\n",
    "%matplotlib inline"
   ]
  },
  {
   "cell_type": "markdown",
   "metadata": {},
   "source": [
    "# Data"
   ]
  },
  {
   "cell_type": "code",
   "execution_count": 4,
   "metadata": {},
   "outputs": [],
   "source": [
    "train = pd.read_csv('train.csv').iloc[:, :-1]\n",
    "test = pd.read_csv('test.csv').iloc[:, :-1]\n",
    "submission = pd.read_csv('data_info_val_sample_submission.csv')\n",
    "with open('categories.json') as f:\n",
    "    categories = json.load(f)"
   ]
  },
  {
   "cell_type": "markdown",
   "metadata": {},
   "source": [
    "# Modelling"
   ]
  },
  {
   "cell_type": "code",
   "execution_count": 5,
   "metadata": {},
   "outputs": [],
   "source": [
    "def count_classifier(x_train, y_train, x_test, y_test, clf):\n",
    "    count_vectorizer = CountVectorizer()\n",
    "    tfidf_transformer = TfidfTransformer()\n",
    "    x_train_vec, x_test_vec = count_vectorizer.fit_transform(x_train), count_vectorizer.transform(x_test)\n",
    "    x_train_vec, x_test_vec = tfidf_transformer.fit_transform(x_train_vec), tfidf_transformer.transform(x_test_vec)\n",
    "    clf.fit(x_train_vec, y_train)\n",
    "    return clf.score(x_test_vec, y_test)"
   ]
  },
  {
   "cell_type": "code",
   "execution_count": 6,
   "metadata": {
    "scrolled": true
   },
   "outputs": [],
   "source": [
    "x, y = train['title'].values, train['Category'].values\n",
    "skf = StratifiedKFold(n_splits=10)"
   ]
  },
  {
   "cell_type": "code",
   "execution_count": 7,
   "metadata": {},
   "outputs": [
    {
     "name": "stdout",
     "output_type": "stream",
     "text": [
      "Theta: 0.01 - Score : 0.6733285400985177\n",
      "Theta: 0.02 - Score : 0.6732820086621454\n",
      "Theta: 0.03 - Score : 0.6728905012051252\n",
      "Theta: 0.04 - Score : 0.6723024803774886\n",
      "Theta: 0.05 - Score : 0.6714264163906931\n"
     ]
    }
   ],
   "source": [
    "for theta in range(1, 6):\n",
    "    theta /= 100\n",
    "    clf = MultinomialNB(alpha=theta)\n",
    "    scores = []\n",
    "    for train_indices, test_indices in skf.split(x, y):\n",
    "        x_train, y_train = x[train_indices], y[train_indices]\n",
    "        x_test, y_test = x[test_indices], y[test_indices]\n",
    "        score = count_classifier(x_train, y_train, x_test, y_test, clf)\n",
    "        scores.append(score)\n",
    "    avg = np.mean(scores)\n",
    "    print('Theta: %s - Score : %s' % (theta, avg))"
   ]
  },
  {
   "cell_type": "code",
   "execution_count": 8,
   "metadata": {},
   "outputs": [
    {
     "name": "stderr",
     "output_type": "stream",
     "text": [
      "/Users/sin/miniconda3/envs/is448/lib/python3.5/site-packages/sklearn/linear_model/stochastic_gradient.py:166: FutureWarning: max_iter and tol parameters have been added in SGDClassifier in 0.19. If both are left unset, they default to max_iter=5 and tol=None. If tol is not None, max_iter defaults to max_iter=1000. From 0.21, default max_iter will be 1000, and default tol will be 1e-3.\n",
      "  FutureWarning)\n"
     ]
    },
    {
     "name": "stdout",
     "output_type": "stream",
     "text": [
      "Theta: 0.01 - Score : 0.6483681577638147\n"
     ]
    },
    {
     "name": "stderr",
     "output_type": "stream",
     "text": [
      "/Users/sin/miniconda3/envs/is448/lib/python3.5/site-packages/sklearn/linear_model/stochastic_gradient.py:166: FutureWarning: max_iter and tol parameters have been added in SGDClassifier in 0.19. If both are left unset, they default to max_iter=5 and tol=None. If tol is not None, max_iter defaults to max_iter=1000. From 0.21, default max_iter will be 1000, and default tol will be 1e-3.\n",
      "  FutureWarning)\n"
     ]
    },
    {
     "name": "stdout",
     "output_type": "stream",
     "text": [
      "Theta: 0.02 - Score : 0.6482721713382025\n"
     ]
    },
    {
     "name": "stderr",
     "output_type": "stream",
     "text": [
      "/Users/sin/miniconda3/envs/is448/lib/python3.5/site-packages/sklearn/linear_model/stochastic_gradient.py:166: FutureWarning: max_iter and tol parameters have been added in SGDClassifier in 0.19. If both are left unset, they default to max_iter=5 and tol=None. If tol is not None, max_iter defaults to max_iter=1000. From 0.21, default max_iter will be 1000, and default tol will be 1e-3.\n",
      "  FutureWarning)\n"
     ]
    },
    {
     "name": "stdout",
     "output_type": "stream",
     "text": [
      "Theta: 0.03 - Score : 0.6481791453079404\n"
     ]
    },
    {
     "name": "stderr",
     "output_type": "stream",
     "text": [
      "/Users/sin/miniconda3/envs/is448/lib/python3.5/site-packages/sklearn/linear_model/stochastic_gradient.py:166: FutureWarning: max_iter and tol parameters have been added in SGDClassifier in 0.19. If both are left unset, they default to max_iter=5 and tol=None. If tol is not None, max_iter defaults to max_iter=1000. From 0.21, default max_iter will be 1000, and default tol will be 1e-3.\n",
      "  FutureWarning)\n"
     ]
    },
    {
     "name": "stdout",
     "output_type": "stream",
     "text": [
      "Theta: 0.04 - Score : 0.6481281514053875\n"
     ]
    },
    {
     "name": "stderr",
     "output_type": "stream",
     "text": [
      "/Users/sin/miniconda3/envs/is448/lib/python3.5/site-packages/sklearn/linear_model/stochastic_gradient.py:166: FutureWarning: max_iter and tol parameters have been added in SGDClassifier in 0.19. If both are left unset, they default to max_iter=5 and tol=None. If tol is not None, max_iter defaults to max_iter=1000. From 0.21, default max_iter will be 1000, and default tol will be 1e-3.\n",
      "  FutureWarning)\n"
     ]
    },
    {
     "name": "stdout",
     "output_type": "stream",
     "text": [
      "Theta: 0.05 - Score : 0.6479616400777128\n"
     ]
    }
   ],
   "source": [
    "for theta in range(1, 6):\n",
    "    theta /= 100\n",
    "    clf = SGDClassifier(loss='hinge', penalty='l2', alpha=theta, random_state=2019)\n",
    "    scores = []\n",
    "    for train_indices, test_indices in skf.split(x, y):\n",
    "        x_train, y_train = x[train_indices], y[train_indices]\n",
    "        x_test, y_test = x[test_indices], y[test_indices]\n",
    "        score = count_classifier(x_train, y_train, x_test, y_test, clf)\n",
    "        scores.append(score)\n",
    "    avg = np.mean(scores)\n",
    "    print('Theta: %s - Score : %s' % (theta, avg))"
   ]
  }
 ],
 "metadata": {
  "kernelspec": {
   "display_name": "Python 3",
   "language": "python",
   "name": "python3"
  },
  "language_info": {
   "codemirror_mode": {
    "name": "ipython",
    "version": 3
   },
   "file_extension": ".py",
   "mimetype": "text/x-python",
   "name": "python",
   "nbconvert_exporter": "python",
   "pygments_lexer": "ipython3",
   "version": "3.6.5"
  }
 },
 "nbformat": 4,
 "nbformat_minor": 2
}
